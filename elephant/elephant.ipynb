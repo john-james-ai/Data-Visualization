{
 "metadata": {
  "language_info": {
   "codemirror_mode": {
    "name": "ipython",
    "version": 3
   },
   "file_extension": ".py",
   "mimetype": "text/x-python",
   "name": "python",
   "nbconvert_exporter": "python",
   "pygments_lexer": "ipython3",
   "version": "3.9.1"
  },
  "orig_nbformat": 2,
  "kernelspec": {
   "name": "python391jvsc74a57bd05fa8e3bf1d80593b2522eb49b05802bf81cf73591dc92aa02276edcdc98a0448",
   "display_name": "Python 3.9.1 64-bit ('mcs': conda)"
  }
 },
 "nbformat": 4,
 "nbformat_minor": 2,
 "cells": [
  {
   "cell_type": "code",
   "execution_count": 97,
   "metadata": {},
   "outputs": [],
   "source": [
    "import pandas as pd\n",
    "import seaborn as sns"
   ]
  },
  {
   "cell_type": "code",
   "execution_count": 122,
   "metadata": {},
   "outputs": [
    {
     "output_type": "stream",
     "name": "stdout",
     "text": [
      "\nRaw Data\n      country  bin_year       pop    RRinc\n40    Albania      2008  0.318140    736.0\n41    Albania      2008  0.318140    962.0\n42    Albania      2008  0.318140   1162.0\n43    Albania      2008  0.318140   1352.0\n44    Albania      2008  0.318140   1548.0\n45    Albania      2008  0.318140   1759.0\n46    Albania      2008  0.318140   2013.0\n47    Albania      2008  0.318140   2355.0\n48    Albania      2008  0.318140   2927.0\n49    Albania      2008  0.318140   6048.0\n50  Argentina      1988  3.172913   1107.0\n51  Argentina      1988  3.172913   1842.0\n52  Argentina      1988  3.172913   2565.0\n53  Argentina      1988  3.172913   3307.0\n54  Argentina      1988  3.172913   4094.0\n55  Argentina      1988  3.172913   4996.0\n56  Argentina      1988  3.172913   6116.0\n57  Argentina      1988  3.172913   7645.0\n58  Argentina      1988  3.172913  10280.0\n59  Argentina      1988  3.172913  22020.0\n\nData Grouped by Year and sorted by income\n                   country        pop  RRinc\nbin_year                                    \n1988     2130    Guatemala   0.852521   82.0\n         5360       Uganda   1.648237   85.0\n         4750  El Salvador   0.518957   87.0\n         3330      Lesotho   0.157990   99.0\n         3800   Mauritania   0.189233  104.0\n...                    ...        ...    ...\n         5366       Uganda   1.648237  423.0\n         2406    Indonesia  12.674084  425.0\n         4751  El Salvador   0.518957  425.0\n         5556   Uzbekistan   1.956118  427.0\n         1964        Ghana   1.401095  428.0\n\n[100 rows x 3 columns]\n\n1988 Data\n          country        pop  RRinc      cumpop\n2130    Guatemala   0.852521   82.0    0.852521\n5360       Uganda   1.648237   85.0    2.500758\n4750  El Salvador   0.518957   87.0    3.019714\n3330      Lesotho   0.157990   99.0    3.177704\n3800   Mauritania   0.189233  104.0    3.366937\n2210     Honduras   0.461825  119.0    3.828761\n5361       Uganda   1.648237  133.0    5.476998\n3970      Nigeria   9.273130  136.0   14.750128\n1210   Costa Rica   0.291657  147.0   15.041785\n920         China  81.917210  157.0   96.958995\n4210     Pakistan  10.533246  165.0  107.492241\n1960        Ghana   1.401095  166.0  108.893336\n2450    Indonesia   5.126596  167.0  114.019932\n3331      Lesotho   0.157990  174.0  114.177922\n2131    Guatemala   0.852521  177.0  115.030443\n2400    Indonesia  12.674084  178.0  127.704527\n5362       Uganda   1.648237  180.0  129.352764\n380    Bangladesh  10.006232  185.0  139.358996\n2211     Honduras   0.461825  196.0  139.820820\n610        Brazil  14.447038  196.0  154.267859\n\n2008 Data\n                       country        pop  RRinc     cumpop\n1110          Congo, Dem. Rep.   6.247490   38.0   6.247490\n1111          Congo, Dem. Rep.   6.247490   60.0  12.494980\n2250                  Honduras   0.730274   63.0  13.225254\n5770                    Zambia   1.237961   74.0  14.463216\n3590                Madagascar   1.954628   74.0  16.417844\n720   Central African Republic   0.423796   75.0  16.841640\n1112          Congo, Dem. Rep.   6.247490   76.0  23.089130\n3260                   Liberia   0.365846   77.0  23.454976\n4010                   Nigeria  15.066573   84.0  38.521549\n1113          Congo, Dem. Rep.   6.247490   92.0  44.769039\n3790                Mozambique   2.233290  108.0  47.002329\n3591                Madagascar   1.954628  108.0  48.956957\n5771                    Zambia   1.237961  108.0  50.194918\n1114          Congo, Dem. Rep.   6.247490  110.0  56.442409\n3070                     Kenya   3.845542  112.0  60.287950\n600                    Bolivia   0.961847  116.0  61.249797\n5350                  Tanzania   4.226767  124.0  65.476564\n4011                   Nigeria  15.066573  127.0  80.543137\n4660                    Rwanda   1.000409  128.0  81.543546\n721   Central African Republic   0.423796  132.0  81.967342\n\nData with Quintiles\n    bin_year  level_1      country        pop  RRinc      cumpop quintile\n0       1988     2130    Guatemala   0.852521   82.0    0.852521        1\n1       1988     5360       Uganda   1.648237   85.0    2.500758        1\n2       1988     4750  El Salvador   0.518957   87.0    3.019714        1\n3       1988     3330      Lesotho   0.157990   99.0    3.177704        1\n4       1988     3800   Mauritania   0.189233  104.0    3.366937        1\n5       1988     2210     Honduras   0.461825  119.0    3.828761        1\n6       1988     5361       Uganda   1.648237  133.0    5.476998        1\n7       1988     3970      Nigeria   9.273130  136.0   14.750128        1\n8       1988     1210   Costa Rica   0.291657  147.0   15.041785        1\n9       1988      920        China  81.917210  157.0   96.958995        1\n10      1988     4210     Pakistan  10.533246  165.0  107.492241        1\n11      1988     1960        Ghana   1.401095  166.0  108.893336        1\n12      1988     2450    Indonesia   5.126596  167.0  114.019932        1\n13      1988     3331      Lesotho   0.157990  174.0  114.177922        1\n14      1988     2131    Guatemala   0.852521  177.0  115.030443        1\n15      1988     2400    Indonesia  12.674084  178.0  127.704527        1\n16      1988     5362       Uganda   1.648237  180.0  129.352764        1\n17      1988      380   Bangladesh  10.006232  185.0  139.358996        1\n18      1988     2211     Honduras   0.461825  196.0  139.820820        1\n19      1988      610       Brazil  14.447038  196.0  154.267859        1\n\nAggregated Data\n                          RRinc\nbin_year quintile              \n1988     1           184.315789\n         2           306.810811\n         3           414.447368\n         4           534.702703\n         5           689.236842\n         6           910.189189\n         7          1177.684211\n         8          1524.729730\n         9          1903.736842\n         10         2399.972973\n         11         2918.648649\n         12         3498.000000\n         13         4157.459459\n         14         4926.394737\n         15         5793.810811\n         16         6898.078947\n         17         8235.945946\n         18        10069.526316\n         19        13304.567568\n         20        21884.421053\n2008     1           158.245902\n         2           293.433333\n         3           400.163934\n         4           510.033333\n         5           643.426230\n         6           793.233333\n         7           962.344262\n         8          1180.466667\n         9          1462.459016\n         10         1792.200000\n         11         2194.933333\n         12         2731.049180\n         13         3379.650000\n         14         4318.344262\n         15         5501.133333\n         16         7199.131148\n         17         9548.183333\n         18        12363.311475\n         19        16670.383333\n         20        30764.950000\n"
     ]
    },
    {
     "output_type": "error",
     "ename": "KeyError",
     "evalue": "'quintile'",
     "traceback": [
      "\u001b[1;31m---------------------------------------------------------------------------\u001b[0m",
      "\u001b[1;31mKeyError\u001b[0m                                  Traceback (most recent call last)",
      "\u001b[1;32m~\\anaconda3\\envs\\mcs\\lib\\site-packages\\pandas\\core\\indexes\\base.py\u001b[0m in \u001b[0;36mget_loc\u001b[1;34m(self, key, method, tolerance)\u001b[0m\n\u001b[0;32m   3079\u001b[0m             \u001b[1;32mtry\u001b[0m\u001b[1;33m:\u001b[0m\u001b[1;33m\u001b[0m\u001b[1;33m\u001b[0m\u001b[0m\n\u001b[1;32m-> 3080\u001b[1;33m                 \u001b[1;32mreturn\u001b[0m \u001b[0mself\u001b[0m\u001b[1;33m.\u001b[0m\u001b[0m_engine\u001b[0m\u001b[1;33m.\u001b[0m\u001b[0mget_loc\u001b[0m\u001b[1;33m(\u001b[0m\u001b[0mcasted_key\u001b[0m\u001b[1;33m)\u001b[0m\u001b[1;33m\u001b[0m\u001b[1;33m\u001b[0m\u001b[0m\n\u001b[0m\u001b[0;32m   3081\u001b[0m             \u001b[1;32mexcept\u001b[0m \u001b[0mKeyError\u001b[0m \u001b[1;32mas\u001b[0m \u001b[0merr\u001b[0m\u001b[1;33m:\u001b[0m\u001b[1;33m\u001b[0m\u001b[1;33m\u001b[0m\u001b[0m\n",
      "\u001b[1;32mpandas\\_libs\\index.pyx\u001b[0m in \u001b[0;36mpandas._libs.index.IndexEngine.get_loc\u001b[1;34m()\u001b[0m\n",
      "\u001b[1;32mpandas\\_libs\\index.pyx\u001b[0m in \u001b[0;36mpandas._libs.index.IndexEngine.get_loc\u001b[1;34m()\u001b[0m\n",
      "\u001b[1;32mpandas\\_libs\\hashtable_class_helper.pxi\u001b[0m in \u001b[0;36mpandas._libs.hashtable.PyObjectHashTable.get_item\u001b[1;34m()\u001b[0m\n",
      "\u001b[1;32mpandas\\_libs\\hashtable_class_helper.pxi\u001b[0m in \u001b[0;36mpandas._libs.hashtable.PyObjectHashTable.get_item\u001b[1;34m()\u001b[0m\n",
      "\u001b[1;31mKeyError\u001b[0m: 'quintile'",
      "\nThe above exception was the direct cause of the following exception:\n",
      "\u001b[1;31mKeyError\u001b[0m                                  Traceback (most recent call last)",
      "\u001b[1;32m<ipython-input-122-fa191694c300>\u001b[0m in \u001b[0;36m<module>\u001b[1;34m\u001b[0m\n\u001b[0;32m     42\u001b[0m \u001b[1;31m# Pivot the data by year\u001b[0m\u001b[1;33m\u001b[0m\u001b[1;33m\u001b[0m\u001b[1;33m\u001b[0m\u001b[0m\n\u001b[0;32m     43\u001b[0m \u001b[0mdf1\u001b[0m \u001b[1;33m=\u001b[0m \u001b[0mdf1\u001b[0m\u001b[1;33m.\u001b[0m\u001b[0mreset_index\u001b[0m\u001b[1;33m(\u001b[0m\u001b[0mdrop\u001b[0m\u001b[1;33m=\u001b[0m\u001b[1;32mTrue\u001b[0m\u001b[1;33m)\u001b[0m\u001b[1;33m\u001b[0m\u001b[1;33m\u001b[0m\u001b[0m\n\u001b[1;32m---> 44\u001b[1;33m \u001b[0mdf1\u001b[0m \u001b[1;33m=\u001b[0m \u001b[0mdf1\u001b[0m\u001b[1;33m.\u001b[0m\u001b[0mpivot\u001b[0m\u001b[1;33m(\u001b[0m\u001b[0mindex\u001b[0m\u001b[1;33m=\u001b[0m\u001b[1;34m\"quintile\"\u001b[0m\u001b[1;33m,\u001b[0m \u001b[0mcolumns\u001b[0m\u001b[1;33m=\u001b[0m\u001b[1;34m\"bin_year\"\u001b[0m\u001b[1;33m,\u001b[0m \u001b[0mvalues\u001b[0m\u001b[1;33m=\u001b[0m\u001b[1;34m\"RRinc\"\u001b[0m\u001b[1;33m)\u001b[0m\u001b[1;33m\u001b[0m\u001b[1;33m\u001b[0m\u001b[0m\n\u001b[0m\u001b[0;32m     45\u001b[0m \u001b[0mdf1\u001b[0m \u001b[1;33m=\u001b[0m \u001b[0mdf1\u001b[0m\u001b[1;33m.\u001b[0m\u001b[0mreset_index\u001b[0m\u001b[1;33m(\u001b[0m\u001b[0mdrop\u001b[0m\u001b[1;33m=\u001b[0m\u001b[1;32mTrue\u001b[0m\u001b[1;33m)\u001b[0m\u001b[1;33m\u001b[0m\u001b[1;33m\u001b[0m\u001b[0m\n\u001b[0;32m     46\u001b[0m \u001b[0mdf1\u001b[0m\u001b[1;33m[\u001b[0m\u001b[1;34m\"Growth\"\u001b[0m\u001b[1;33m]\u001b[0m \u001b[1;33m=\u001b[0m \u001b[1;33m(\u001b[0m\u001b[0mdf1\u001b[0m\u001b[1;33m.\u001b[0m\u001b[0mloc\u001b[0m\u001b[1;33m[\u001b[0m\u001b[1;33m:\u001b[0m\u001b[1;33m,\u001b[0m\u001b[1;36m2008\u001b[0m\u001b[1;33m]\u001b[0m \u001b[1;33m-\u001b[0m \u001b[0mdf1\u001b[0m\u001b[1;33m.\u001b[0m\u001b[0mloc\u001b[0m\u001b[1;33m[\u001b[0m\u001b[1;33m:\u001b[0m\u001b[1;33m,\u001b[0m\u001b[1;36m1988\u001b[0m\u001b[1;33m]\u001b[0m\u001b[1;33m)\u001b[0m \u001b[1;33m/\u001b[0m \u001b[0mdf1\u001b[0m\u001b[1;33m.\u001b[0m\u001b[0mloc\u001b[0m\u001b[1;33m[\u001b[0m\u001b[1;33m:\u001b[0m\u001b[1;33m,\u001b[0m\u001b[1;36m1988\u001b[0m\u001b[1;33m]\u001b[0m\u001b[1;33m*\u001b[0m \u001b[1;36m100\u001b[0m\u001b[1;33m\u001b[0m\u001b[1;33m\u001b[0m\u001b[0m\n",
      "\u001b[1;32m~\\anaconda3\\envs\\mcs\\lib\\site-packages\\pandas\\core\\frame.py\u001b[0m in \u001b[0;36mpivot\u001b[1;34m(self, index, columns, values)\u001b[0m\n\u001b[0;32m   6874\u001b[0m         \u001b[1;32mfrom\u001b[0m \u001b[0mpandas\u001b[0m\u001b[1;33m.\u001b[0m\u001b[0mcore\u001b[0m\u001b[1;33m.\u001b[0m\u001b[0mreshape\u001b[0m\u001b[1;33m.\u001b[0m\u001b[0mpivot\u001b[0m \u001b[1;32mimport\u001b[0m \u001b[0mpivot\u001b[0m\u001b[1;33m\u001b[0m\u001b[1;33m\u001b[0m\u001b[0m\n\u001b[0;32m   6875\u001b[0m \u001b[1;33m\u001b[0m\u001b[0m\n\u001b[1;32m-> 6876\u001b[1;33m         \u001b[1;32mreturn\u001b[0m \u001b[0mpivot\u001b[0m\u001b[1;33m(\u001b[0m\u001b[0mself\u001b[0m\u001b[1;33m,\u001b[0m \u001b[0mindex\u001b[0m\u001b[1;33m=\u001b[0m\u001b[0mindex\u001b[0m\u001b[1;33m,\u001b[0m \u001b[0mcolumns\u001b[0m\u001b[1;33m=\u001b[0m\u001b[0mcolumns\u001b[0m\u001b[1;33m,\u001b[0m \u001b[0mvalues\u001b[0m\u001b[1;33m=\u001b[0m\u001b[0mvalues\u001b[0m\u001b[1;33m)\u001b[0m\u001b[1;33m\u001b[0m\u001b[1;33m\u001b[0m\u001b[0m\n\u001b[0m\u001b[0;32m   6877\u001b[0m \u001b[1;33m\u001b[0m\u001b[0m\n\u001b[0;32m   6878\u001b[0m     _shared_docs[\n",
      "\u001b[1;32m~\\anaconda3\\envs\\mcs\\lib\\site-packages\\pandas\\core\\reshape\\pivot.py\u001b[0m in \u001b[0;36mpivot\u001b[1;34m(data, index, columns, values)\u001b[0m\n\u001b[0;32m    445\u001b[0m         \u001b[1;32melse\u001b[0m\u001b[1;33m:\u001b[0m\u001b[1;33m\u001b[0m\u001b[1;33m\u001b[0m\u001b[0m\n\u001b[0;32m    446\u001b[0m             \u001b[0mindex\u001b[0m \u001b[1;33m=\u001b[0m \u001b[0mcom\u001b[0m\u001b[1;33m.\u001b[0m\u001b[0mconvert_to_list_like\u001b[0m\u001b[1;33m(\u001b[0m\u001b[0mindex\u001b[0m\u001b[1;33m)\u001b[0m\u001b[1;33m\u001b[0m\u001b[1;33m\u001b[0m\u001b[0m\n\u001b[1;32m--> 447\u001b[1;33m             \u001b[0mindex\u001b[0m \u001b[1;33m=\u001b[0m \u001b[1;33m[\u001b[0m\u001b[0mdata\u001b[0m\u001b[1;33m[\u001b[0m\u001b[0midx\u001b[0m\u001b[1;33m]\u001b[0m \u001b[1;32mfor\u001b[0m \u001b[0midx\u001b[0m \u001b[1;32min\u001b[0m \u001b[0mindex\u001b[0m\u001b[1;33m]\u001b[0m\u001b[1;33m\u001b[0m\u001b[1;33m\u001b[0m\u001b[0m\n\u001b[0m\u001b[0;32m    448\u001b[0m \u001b[1;33m\u001b[0m\u001b[0m\n\u001b[0;32m    449\u001b[0m         \u001b[0mdata_columns\u001b[0m \u001b[1;33m=\u001b[0m \u001b[1;33m[\u001b[0m\u001b[0mdata\u001b[0m\u001b[1;33m[\u001b[0m\u001b[0mcol\u001b[0m\u001b[1;33m]\u001b[0m \u001b[1;32mfor\u001b[0m \u001b[0mcol\u001b[0m \u001b[1;32min\u001b[0m \u001b[0mcolumns\u001b[0m\u001b[1;33m]\u001b[0m\u001b[1;33m\u001b[0m\u001b[1;33m\u001b[0m\u001b[0m\n",
      "\u001b[1;32m~\\anaconda3\\envs\\mcs\\lib\\site-packages\\pandas\\core\\reshape\\pivot.py\u001b[0m in \u001b[0;36m<listcomp>\u001b[1;34m(.0)\u001b[0m\n\u001b[0;32m    445\u001b[0m         \u001b[1;32melse\u001b[0m\u001b[1;33m:\u001b[0m\u001b[1;33m\u001b[0m\u001b[1;33m\u001b[0m\u001b[0m\n\u001b[0;32m    446\u001b[0m             \u001b[0mindex\u001b[0m \u001b[1;33m=\u001b[0m \u001b[0mcom\u001b[0m\u001b[1;33m.\u001b[0m\u001b[0mconvert_to_list_like\u001b[0m\u001b[1;33m(\u001b[0m\u001b[0mindex\u001b[0m\u001b[1;33m)\u001b[0m\u001b[1;33m\u001b[0m\u001b[1;33m\u001b[0m\u001b[0m\n\u001b[1;32m--> 447\u001b[1;33m             \u001b[0mindex\u001b[0m \u001b[1;33m=\u001b[0m \u001b[1;33m[\u001b[0m\u001b[0mdata\u001b[0m\u001b[1;33m[\u001b[0m\u001b[0midx\u001b[0m\u001b[1;33m]\u001b[0m \u001b[1;32mfor\u001b[0m \u001b[0midx\u001b[0m \u001b[1;32min\u001b[0m \u001b[0mindex\u001b[0m\u001b[1;33m]\u001b[0m\u001b[1;33m\u001b[0m\u001b[1;33m\u001b[0m\u001b[0m\n\u001b[0m\u001b[0;32m    448\u001b[0m \u001b[1;33m\u001b[0m\u001b[0m\n\u001b[0;32m    449\u001b[0m         \u001b[0mdata_columns\u001b[0m \u001b[1;33m=\u001b[0m \u001b[1;33m[\u001b[0m\u001b[0mdata\u001b[0m\u001b[1;33m[\u001b[0m\u001b[0mcol\u001b[0m\u001b[1;33m]\u001b[0m \u001b[1;32mfor\u001b[0m \u001b[0mcol\u001b[0m \u001b[1;32min\u001b[0m \u001b[0mcolumns\u001b[0m\u001b[1;33m]\u001b[0m\u001b[1;33m\u001b[0m\u001b[1;33m\u001b[0m\u001b[0m\n",
      "\u001b[1;32m~\\anaconda3\\envs\\mcs\\lib\\site-packages\\pandas\\core\\frame.py\u001b[0m in \u001b[0;36m__getitem__\u001b[1;34m(self, key)\u001b[0m\n\u001b[0;32m   3022\u001b[0m             \u001b[1;32mif\u001b[0m \u001b[0mself\u001b[0m\u001b[1;33m.\u001b[0m\u001b[0mcolumns\u001b[0m\u001b[1;33m.\u001b[0m\u001b[0mnlevels\u001b[0m \u001b[1;33m>\u001b[0m \u001b[1;36m1\u001b[0m\u001b[1;33m:\u001b[0m\u001b[1;33m\u001b[0m\u001b[1;33m\u001b[0m\u001b[0m\n\u001b[0;32m   3023\u001b[0m                 \u001b[1;32mreturn\u001b[0m \u001b[0mself\u001b[0m\u001b[1;33m.\u001b[0m\u001b[0m_getitem_multilevel\u001b[0m\u001b[1;33m(\u001b[0m\u001b[0mkey\u001b[0m\u001b[1;33m)\u001b[0m\u001b[1;33m\u001b[0m\u001b[1;33m\u001b[0m\u001b[0m\n\u001b[1;32m-> 3024\u001b[1;33m             \u001b[0mindexer\u001b[0m \u001b[1;33m=\u001b[0m \u001b[0mself\u001b[0m\u001b[1;33m.\u001b[0m\u001b[0mcolumns\u001b[0m\u001b[1;33m.\u001b[0m\u001b[0mget_loc\u001b[0m\u001b[1;33m(\u001b[0m\u001b[0mkey\u001b[0m\u001b[1;33m)\u001b[0m\u001b[1;33m\u001b[0m\u001b[1;33m\u001b[0m\u001b[0m\n\u001b[0m\u001b[0;32m   3025\u001b[0m             \u001b[1;32mif\u001b[0m \u001b[0mis_integer\u001b[0m\u001b[1;33m(\u001b[0m\u001b[0mindexer\u001b[0m\u001b[1;33m)\u001b[0m\u001b[1;33m:\u001b[0m\u001b[1;33m\u001b[0m\u001b[1;33m\u001b[0m\u001b[0m\n\u001b[0;32m   3026\u001b[0m                 \u001b[0mindexer\u001b[0m \u001b[1;33m=\u001b[0m \u001b[1;33m[\u001b[0m\u001b[0mindexer\u001b[0m\u001b[1;33m]\u001b[0m\u001b[1;33m\u001b[0m\u001b[1;33m\u001b[0m\u001b[0m\n",
      "\u001b[1;32m~\\anaconda3\\envs\\mcs\\lib\\site-packages\\pandas\\core\\indexes\\base.py\u001b[0m in \u001b[0;36mget_loc\u001b[1;34m(self, key, method, tolerance)\u001b[0m\n\u001b[0;32m   3080\u001b[0m                 \u001b[1;32mreturn\u001b[0m \u001b[0mself\u001b[0m\u001b[1;33m.\u001b[0m\u001b[0m_engine\u001b[0m\u001b[1;33m.\u001b[0m\u001b[0mget_loc\u001b[0m\u001b[1;33m(\u001b[0m\u001b[0mcasted_key\u001b[0m\u001b[1;33m)\u001b[0m\u001b[1;33m\u001b[0m\u001b[1;33m\u001b[0m\u001b[0m\n\u001b[0;32m   3081\u001b[0m             \u001b[1;32mexcept\u001b[0m \u001b[0mKeyError\u001b[0m \u001b[1;32mas\u001b[0m \u001b[0merr\u001b[0m\u001b[1;33m:\u001b[0m\u001b[1;33m\u001b[0m\u001b[1;33m\u001b[0m\u001b[0m\n\u001b[1;32m-> 3082\u001b[1;33m                 \u001b[1;32mraise\u001b[0m \u001b[0mKeyError\u001b[0m\u001b[1;33m(\u001b[0m\u001b[0mkey\u001b[0m\u001b[1;33m)\u001b[0m \u001b[1;32mfrom\u001b[0m \u001b[0merr\u001b[0m\u001b[1;33m\u001b[0m\u001b[1;33m\u001b[0m\u001b[0m\n\u001b[0m\u001b[0;32m   3083\u001b[0m \u001b[1;33m\u001b[0m\u001b[0m\n\u001b[0;32m   3084\u001b[0m         \u001b[1;32mif\u001b[0m \u001b[0mtolerance\u001b[0m \u001b[1;32mis\u001b[0m \u001b[1;32mnot\u001b[0m \u001b[1;32mNone\u001b[0m\u001b[1;33m:\u001b[0m\u001b[1;33m\u001b[0m\u001b[1;33m\u001b[0m\u001b[0m\n",
      "\u001b[1;31mKeyError\u001b[0m: 'quintile'"
     ]
    }
   ],
   "source": [
    "# Designate the file path, and various sets of features of interest.\n",
    "filepath = \"../data/elephant.csv\"\n",
    "features = [\"country\", \"bin_year\", \"pop\", \"RRinc\"]\n",
    "features_country = [\"country\", \"bin_year\", \"pop\", \"RRinc\"]\n",
    "features_year_quintile = [\"bin_year\", \"quintile\", \"RRinc\"]\n",
    "features_year_region = [\"bin_year\", \"region\", \"quintile\", \"RRinc\"]\n",
    "\n",
    "# Read the data and reset the index.\n",
    "elephant = pd.read_csv(filepath, header=0)\n",
    "df = elephant.reset_index(drop=True)\n",
    "df = df[df.mysample == 1]\n",
    "\n",
    "# Extract features and observations for 1988 and 2008\n",
    "df = df[df[\"bin_year\"].isin([1988,2008])][features]\n",
    "print(\"\\nRaw Data\")\n",
    "print(df.head(20))\n",
    "\n",
    "# Group by year, remove superfluous year column name, sort by income, and create cumulative population by year.\n",
    "dfg = df.groupby(by=[\"bin_year\"]).apply(pd.DataFrame.sort_values, \"RRinc\")\\\n",
    "                                            .drop(columns=[\"bin_year\"])\n",
    "print(\"\\nData Grouped by Year and sorted by income\")\n",
    "print(dfg.head(100))\n",
    "\n",
    "# Add cumulative population by year\n",
    "dfg[\"cumpop\"] = dfg.groupby(by=\"bin_year\")[\"pop\"].cumsum()\n",
    "print(\"\\n1988 Data\")\n",
    "print(dfg.loc[1988].head(20))\n",
    "print(\"\\n2008 Data\")\n",
    "print(dfg.loc[2008].head(20))\n",
    "\n",
    "# Reset the index, groupby year again, create population quintiles\n",
    "dfg = dfg.reset_index()\n",
    "dfg[\"quintile\"] = dfg.groupby(by=\"bin_year\")[\"cumpop\"].transform(lambda x: pd.qcut(x, 20, labels=range(1,21)))\n",
    "print(\"\\nData with Quintiles\")\n",
    "print(dfg.head(20))\n",
    "\n",
    "# Extract relevant features, group by year and quintile, and average the income\n",
    "df1 = dfg[features_year_quintile].groupby(by=[\"bin_year\", \"quintile\"]).mean()\n",
    "print(\"\\nAggregated Data\")\n",
    "print(df1)\n",
    "\n",
    "# Pivot the data by year\n",
    "df1 = df1.reset_index()\n",
    "df1 = df1.pivot(index=\"quintile\", columns=\"bin_year\", values=\"RRinc\")\n",
    "df1 = df1.reset_index(drop=True)\n",
    "df1[\"Growth\"] = (df1.loc[:,2008] - df1.loc[:,1988]) / df1.loc[:,1988]* 100\n",
    "print(\"\\nFinal Data\")\n",
    "df1"
   ]
  },
  {
   "cell_type": "code",
   "execution_count": 73,
   "metadata": {},
   "outputs": [
    {
     "output_type": "stream",
     "name": "stdout",
     "text": [
      "<class 'pandas.core.frame.DataFrame'>\nRangeIndex: 2020 entries, 0 to 2019\nData columns (total 3 columns):\n #   Column    Non-Null Count  Dtype   \n---  ------    --------------  -----   \n 0   bin_year  2020 non-null   int64   \n 1   quintile  2020 non-null   category\n 2   RRinc     2019 non-null   float64 \ndtypes: category(1), float64(1), int64(1)\nmemory usage: 33.8 KB\n"
     ]
    }
   ],
   "source": [
    "# Explore the data\n",
    "\n",
    "# Reset the index, extract features of interest, and add cumulative sum of population, sorted by income.\n",
    "dfg1 = dfg.reset_index()\n",
    "dfg1 = dfg1[features_country]\n",
    "dfg1 = dfg1.\n",
    "dfg1 = dfg1.groupby(by=[\"bin_year\",\"quintile\"])\n",
    "df1.info()\n",
    "\n",
    "# sns.lineplot(x=\"quintile\", y=\"RRinc\", hue=\"bin_year\",data=dfp)"
   ]
  },
  {
   "cell_type": "code",
   "execution_count": null,
   "metadata": {},
   "outputs": [],
   "source": [
    "# Group by year, sort by income, compute cumulative sum of and quintile population\n",
    "dfg = df.groupby(by=\"bin_year\").apply(pd.DataFrame.sort_values, \"Income\").drop(columns=\"bin_year\")\n",
    "dfg[\"popsum\"] = dfg[\"pop\"].cumsum()\n",
    "dfg[\"quintile\"] = pd.qcut(dfg[\"popsum\"], 20, labels=range(20))\n",
    "\n",
    "# Extract year, country, quintile, and Income\n",
    "dfg.reset_index(inplace=True)\n",
    "df = dfg[[\"bin_year\",\"country\", \"quintile\", \"Income\"]].groupby(by=[\"bin_year\", \"quintile\"]).agg({\"Income\": \"mean\"}).reset_index()\n",
    "df\n",
    "\n",
    "# ## Pivot on quintile\n",
    "# df = df.pivot(index=\"quintile\", columns=\"bin_year\", values=\"Income\")\n",
    "# df.head()\n"
   ]
  }
 ]
}