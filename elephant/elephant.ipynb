{
 "metadata": {
  "language_info": {
   "codemirror_mode": {
    "name": "ipython",
    "version": 3
   },
   "file_extension": ".py",
   "mimetype": "text/x-python",
   "name": "python",
   "nbconvert_exporter": "python",
   "pygments_lexer": "ipython3",
   "version": "3.9.1"
  },
  "orig_nbformat": 2,
  "kernelspec": {
   "name": "python391jvsc74a57bd05fa8e3bf1d80593b2522eb49b05802bf81cf73591dc92aa02276edcdc98a0448",
   "display_name": "Python 3.9.1 64-bit ('mcs': conda)"
  }
 },
 "nbformat": 4,
 "nbformat_minor": 2,
 "cells": [
  {
   "cell_type": "code",
   "execution_count": 20,
   "metadata": {},
   "outputs": [],
   "source": [
    "import pandas as pd\n",
    "import seaborn as sns\n",
    "pd.set_option('display.max_rows', 500)\n",
    "pd.set_option('display.max_columns', 500)\n",
    "pd.set_option('display.width', 1000)"
   ]
  },
  {
   "cell_type": "code",
   "execution_count": null,
   "metadata": {},
   "outputs": [],
   "source": [
    "# Designate the file path, and various sets of features of interest.\n",
    "filepath = \"../data/elephant.csv\"\n",
    "features = [\"country\", \"bin_year\", \"pop\", \"RRinc\"]\n",
    "features_ypi = [\"bin_year\", \"pop\", \"RRinc\"]\n",
    "features_country = [\"country\", \"bin_year\", \"pop\", \"RRinc\"]\n",
    "features_year_quintile = [\"bin_year\", \"quintile\", \"RRinc\"]\n",
    "features_year_region = [\"bin_year\", \"region\", \"quintile\", \"RRinc\"]\n",
    "\n",
    "# Read the data and reset the index.\n",
    "elephant = pd.read_csv(filepath, header=0)\n",
    "df = elephant.reset_index(drop=True)\n",
    "\n",
    "# Extract features and observations of interest\n",
    "df = df[(df.mysample == 1) & (df[\"bin_year\"].isin([1988,2008]))][features_ypi]\n",
    "print(\"=\"*40)\n",
    "print(\"\\nRaw Study Data\")\n",
    "print(df.info())\n",
    "print(\"-\"*40)\n",
    "print(df.head())\n",
    "print(\"-\"*40)\n",
    "print(df.tail())\n",
    "print(\"=\"*40)\n"
   ]
  },
  {
   "cell_type": "code",
   "execution_count": 24,
   "metadata": {},
   "outputs": [
    {
     "output_type": "stream",
     "name": "stdout",
     "text": [
      "\n\n================================================================================\n           Income statistics grouped by year\n--------------------------------------------------------------------------------\n           count         mean          std   min    25%     50%      75%      max\nbin_year                                                                         \n1988       750.0  4594.340000  5504.011711  82.0  787.5  2644.0  6217.25  43279.0\n2008      1209.0  5130.076923  7721.997274  38.0  720.0  1994.0  6244.00  72925.0\n--------------------------------------------------------------------------------\n          Population statistics grouped by year\n--------------------------------------------------------------------------------\n           count      mean        std       min       25%       50%       75%        max\nbin_year                                                                                \n1988       750.0  5.526245  12.414399  0.073653  0.512952  1.476009  5.443372  81.917210\n2008      1210.0  5.042867  12.127811  0.008696  0.476821  1.123709  3.971430  83.908256\n================================================================================\n"
     ]
    }
   ],
   "source": [
    "# Obtain basic descriptive statistics of income by year.\n",
    "dfg = df.groupby(by=[\"bin_year\"])\n",
    "print(\"\\n\")\n",
    "print(\"=\"*80)\n",
    "print(\"           Income statistics grouped by year\")\n",
    "print(\"-\"*80)\n",
    "print(dfg[\"RRinc\"].describe())\n",
    "print(\"-\"*80)\n",
    "print(\"          Population statistics grouped by year\")\n",
    "print(\"-\"*80)\n",
    "print(dfg[\"pop\"].describe())\n",
    "print(\"=\"*80)\n",
    "\n"
   ]
  },
  {
   "cell_type": "code",
   "execution_count": 36,
   "metadata": {},
   "outputs": [
    {
     "output_type": "stream",
     "name": "stdout",
     "text": [
      "================================================================================\n         Data in Population Quintiles, Sorted by Income\n                          RRinc\nbin_year quintile              \n1988     1           184.315789\n         2           306.810811\n         3           414.447368\n         4           534.702703\n         5           689.236842\n         6           910.189189\n         7          1177.684211\n         8          1524.729730\n         9          1903.736842\n         10         2399.972973\n         11         2918.648649\n         12         3498.000000\n         13         4157.459459\n         14         4926.394737\n         15         5793.810811\n         16         6898.078947\n         17         8235.945946\n         18        10069.526316\n         19        13304.567568\n         20        21884.421053\n2008     1           158.245902\n         2           293.433333\n         3           400.163934\n         4           510.033333\n         5           643.426230\n         6           793.233333\n         7           962.344262\n         8          1180.466667\n         9          1462.459016\n         10         1792.200000\n         11         2194.933333\n         12         2731.049180\n         13         3379.650000\n         14         4318.344262\n         15         5501.133333\n         16         7199.131148\n         17         9548.183333\n         18        12363.311475\n         19        16670.383333\n         20        30764.950000\n--------------------------------------------------------------------------------\n"
     ]
    }
   ],
   "source": [
    "# Process the data: Sort data by income, create cumulative sum of population and create quintile by cumulative population grouped by year.\n",
    "dfg = df.groupby(by=[\"bin_year\"]).apply(lambda x: (x.sort_values(\"RRinc\")\n",
    "                                                    .assign(cumpop=lambda df: df[\"pop\"].cumsum()))\\\n",
    "                                                    .assign(quintile=lambda df: pd.qcut(df[\"cumpop\"], 20, labels=range(1,21))))\\\n",
    "                                                        .drop(columns=[\"bin_year\", \"pop\", \"cumpop\"])\\\n",
    "                                                        .groupby(by=[\"bin_year\",\"quintile\"]).mean()\n",
    "print(\"=\"*80)\n",
    "print(\"         Data in Population Quintiles, Sorted by Income\")      \n",
    "print(dfg)                                                                                              \n",
    "print(\"-\"*80)\n"
   ]
  },
  {
   "cell_type": "code",
   "execution_count": 39,
   "metadata": {},
   "outputs": [
    {
     "output_type": "stream",
     "name": "stdout",
     "text": [
      "========================================\n\nPivot Data\n----------------------------------------\nbin_year          1988          2008\nquintile                            \n1           184.315789    158.245902\n2           306.810811    293.433333\n3           414.447368    400.163934\n4           534.702703    510.033333\n5           689.236842    643.426230\n6           910.189189    793.233333\n7          1177.684211    962.344262\n8          1524.729730   1180.466667\n9          1903.736842   1462.459016\n10         2399.972973   1792.200000\n11         2918.648649   2194.933333\n12         3498.000000   2731.049180\n13         4157.459459   3379.650000\n14         4926.394737   4318.344262\n15         5793.810811   5501.133333\n16         6898.078947   7199.131148\n17         8235.945946   9548.183333\n18        10069.526316  12363.311475\n19        13304.567568  16670.383333\n20        21884.421053  30764.950000\n========================================\n"
     ]
    }
   ],
   "source": [
    "# Pivot the data\n",
    "dfp = dfg.reset_index().pivot(index=\"quintile\", columns=\"bin_year\", values=\"RRinc\")\n",
    "print(\"=\"*40)\n",
    "print(\"\\nPivot Data\")\n",
    "print(\"-\"*40)\n",
    "print(dfp)\n",
    "print(\"=\"*40)"
   ]
  },
  {
   "cell_type": "code",
   "execution_count": null,
   "metadata": {},
   "outputs": [],
   "source": []
  }
 ]
}