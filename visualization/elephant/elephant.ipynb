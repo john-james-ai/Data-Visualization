{
 "metadata": {
  "language_info": {
   "codemirror_mode": {
    "name": "ipython",
    "version": 3
   },
   "file_extension": ".py",
   "mimetype": "text/x-python",
   "name": "python",
   "nbconvert_exporter": "python",
   "pygments_lexer": "ipython3",
   "version": "3.9.1"
  },
  "orig_nbformat": 2,
  "kernelspec": {
   "name": "python391jvsc74a57bd05fa8e3bf1d80593b2522eb49b05802bf81cf73591dc92aa02276edcdc98a0448",
   "display_name": "Python 3.9.1 64-bit ('mcs': conda)"
  }
 },
 "nbformat": 4,
 "nbformat_minor": 2,
 "cells": [
  {
   "cell_type": "code",
   "execution_count": 1,
   "metadata": {},
   "outputs": [],
   "source": [
    "import pandas as pd\n",
    "import seaborn as sns\n",
    "pd.set_option('display.max_rows', 500)\n",
    "pd.set_option('display.max_columns', 500)\n",
    "pd.set_option('display.width', 1000)"
   ]
  },
  {
   "cell_type": "code",
   "execution_count": 2,
   "metadata": {},
   "outputs": [
    {
     "output_type": "stream",
     "name": "stdout",
     "text": [
      "========================================\n\nRaw Study Data\n<class 'pandas.core.frame.DataFrame'>\nInt64Index: 1960 entries, 40 to 5779\nData columns (total 3 columns):\n #   Column    Non-Null Count  Dtype  \n---  ------    --------------  -----  \n 0   bin_year  1960 non-null   int64  \n 1   pop       1960 non-null   float64\n 2   RRinc     1959 non-null   float64\ndtypes: float64(2), int64(1)\nmemory usage: 61.2 KB\nNone\n----------------------------------------\n    bin_year      pop   RRinc\n40      2008  0.31814   736.0\n41      2008  0.31814   962.0\n42      2008  0.31814  1162.0\n43      2008  0.31814  1352.0\n44      2008  0.31814  1548.0\n----------------------------------------\n      bin_year       pop   RRinc\n5775      2008  1.237961   320.0\n5776      2008  1.237961   415.0\n5777      2008  1.237961   560.0\n5778      2008  1.237961   828.0\n5779      2008  1.237961  2195.0\n========================================\n"
     ]
    }
   ],
   "source": [
    "# Designate the file path, and various sets of features of interest.\n",
    "filepath = \"../data/elephant.csv\"\n",
    "features = [\"country\", \"bin_year\", \"pop\", \"RRinc\"]\n",
    "features_ypi = [\"bin_year\", \"pop\", \"RRinc\"]\n",
    "features_country = [\"country\", \"bin_year\", \"pop\", \"RRinc\"]\n",
    "features_year_quintile = [\"bin_year\", \"quintile\", \"RRinc\"]\n",
    "features_year_region = [\"bin_year\", \"region\", \"quintile\", \"RRinc\"]\n",
    "\n",
    "# Read the data and reset the index.\n",
    "elephant = pd.read_csv(filepath, header=0)\n",
    "df = elephant.reset_index(drop=True)\n",
    "\n",
    "# Extract features and observations of interest\n",
    "df = df[(df.mysample == 1) & (df[\"bin_year\"].isin([1988,2008]))][features_ypi]\n",
    "print(\"=\"*40)\n",
    "print(\"\\nRaw Study Data\")\n",
    "print(df.info())\n",
    "print(\"-\"*40)\n",
    "print(df.head())\n",
    "print(\"-\"*40)\n",
    "print(df.tail())\n",
    "print(\"=\"*40)\n"
   ]
  },
  {
   "cell_type": "code",
   "execution_count": 3,
   "metadata": {},
   "outputs": [
    {
     "output_type": "stream",
     "name": "stdout",
     "text": [
      "\n\n================================================================================\n           Income statistics grouped by year\n--------------------------------------------------------------------------------\n           count         mean          std   min    25%     50%      75%      max\nbin_year                                                                         \n1988       750.0  4594.340000  5504.011711  82.0  787.5  2644.0  6217.25  43279.0\n2008      1209.0  5130.076923  7721.997274  38.0  720.0  1994.0  6244.00  72925.0\n--------------------------------------------------------------------------------\n          Population statistics grouped by year\n--------------------------------------------------------------------------------\n           count      mean        std       min       25%       50%       75%        max\nbin_year                                                                                \n1988       750.0  5.526245  12.414399  0.073653  0.512952  1.476009  5.443372  81.917210\n2008      1210.0  5.042867  12.127811  0.008696  0.476821  1.123709  3.971430  83.908256\n================================================================================\n"
     ]
    }
   ],
   "source": [
    "# Obtain basic descriptive statistics of income by year.\n",
    "dfg = df.groupby(by=[\"bin_year\"])\n",
    "print(\"\\n\")\n",
    "print(\"=\"*80)\n",
    "print(\"           Income statistics grouped by year\")\n",
    "print(\"-\"*80)\n",
    "print(dfg[\"RRinc\"].describe())\n",
    "print(\"-\"*80)\n",
    "print(\"          Population statistics grouped by year\")\n",
    "print(\"-\"*80)\n",
    "print(dfg[\"pop\"].describe())\n",
    "print(\"=\"*80)\n",
    "\n"
   ]
  },
  {
   "cell_type": "code",
   "execution_count": 4,
   "metadata": {},
   "outputs": [
    {
     "output_type": "stream",
     "name": "stdout",
     "text": [
      "================================================================================\n         Data in Population Quintiles, Sorted by Income\n                          RRinc\nbin_year quintile              \n1988     1           184.315789\n         2           306.810811\n         3           414.447368\n         4           534.702703\n         5           689.236842\n         6           910.189189\n         7          1177.684211\n         8          1524.729730\n         9          1903.736842\n         10         2399.972973\n         11         2918.648649\n         12         3498.000000\n         13         4157.459459\n         14         4926.394737\n         15         5793.810811\n         16         6898.078947\n         17         8235.945946\n         18        10069.526316\n         19        13304.567568\n         20        21884.421053\n2008     1           158.245902\n         2           293.433333\n         3           400.163934\n         4           510.033333\n         5           643.426230\n         6           793.233333\n         7           962.344262\n         8          1180.466667\n         9          1462.459016\n         10         1792.200000\n         11         2194.933333\n         12         2731.049180\n         13         3379.650000\n         14         4318.344262\n         15         5501.133333\n         16         7199.131148\n         17         9548.183333\n         18        12363.311475\n         19        16670.383333\n         20        30764.950000\n--------------------------------------------------------------------------------\n"
     ]
    }
   ],
   "source": [
    "# Process the data: Sort data by income, create cumulative sum of population and create quintile by cumulative population grouped by year.\n",
    "dfg = df.groupby(by=[\"bin_year\"]).apply(lambda x: (x.sort_values(\"RRinc\")\n",
    "                                                    .assign(cumpop=lambda df: df[\"pop\"].cumsum()))\\\n",
    "                                                    .assign(quintile=lambda df: pd.qcut(df[\"cumpop\"], 20, labels=range(1,21))))\\\n",
    "                                                        .drop(columns=[\"bin_year\", \"pop\", \"cumpop\"])\\\n",
    "                                                        .groupby(by=[\"bin_year\",\"quintile\"]).mean()\n",
    "print(\"=\"*80)\n",
    "print(\"         Data in Population Quintiles, Sorted by Income\")      \n",
    "print(dfg)                                                                                              \n",
    "print(\"-\"*80)\n"
   ]
  },
  {
   "cell_type": "code",
   "execution_count": 5,
   "metadata": {},
   "outputs": [
    {
     "output_type": "stream",
     "name": "stdout",
     "text": [
      "========================================\n\nPivot Data\n----------------------------------------\nbin_year quintile          1988          2008  pct_growth\n0               1    184.315789    158.245902  -14.144142\n1               2    306.810811    293.433333   -4.360171\n2               3    414.447368    400.163934   -3.446381\n3               4    534.702703    510.033333   -4.613661\n4               5    689.236842    643.426230   -6.646570\n5               6    910.189189    793.233333  -12.849620\n6               7   1177.684211    962.344262  -18.285033\n7               8   1524.729730   1180.466667  -22.578629\n8               9   1903.736842   1462.459016  -23.179560\n9              10   2399.972973   1792.200000  -25.324159\n10             11   2918.648649   2194.933333  -24.796247\n11             12   3498.000000   2731.049180  -21.925409\n12             13   4157.459459   3379.650000  -18.708768\n13             14   4926.394737   4318.344262  -12.342707\n14             15   5793.810811   5501.133333   -5.051554\n15             16   6898.078947   7199.131148    4.364290\n16             17   8235.945946   9548.183333   15.933050\n17             18  10069.526316  12363.311475   22.779474\n18             19  13304.567568  16670.383333   25.298197\n19             20  21884.421053  30764.950000   40.579227\n========================================\n"
     ]
    }
   ],
   "source": [
    "# Pivot the data\n",
    "dfp = dfg.reset_index().pivot(index=\"quintile\", columns=\"bin_year\", values=\"RRinc\").reset_index()\n",
    "dfp[\"pct_growth\"] = (dfp[2008]-dfp[1988])/dfp[1988]*100\n",
    "print(\"=\"*40)\n",
    "print(\"\\nPivot Data\")\n",
    "print(\"-\"*40)\n",
    "print(dfp)\n",
    "print(\"=\"*40)"
   ]
  },
  {
   "cell_type": "code",
   "execution_count": null,
   "metadata": {},
   "outputs": [],
   "source": []
  }
 ]
}